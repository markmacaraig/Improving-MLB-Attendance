{
 "cells": [
  {
   "cell_type": "markdown",
   "id": "4d18a224",
   "metadata": {},
   "source": [
    "### Using Data to Improve MLB Attendance"
   ]
  },
  {
   "cell_type": "code",
   "execution_count": 1,
   "id": "b1af7778",
   "metadata": {},
   "outputs": [],
   "source": [
    "#importing libraries\n",
    "import pandas as pd\n",
    "import numpy as np\n",
    "import matplotlib.pyplot as plt\n",
    "from datetime import datetime\n",
    "import calendar"
   ]
  },
  {
   "cell_type": "code",
   "execution_count": 2,
   "id": "b29be7dc",
   "metadata": {},
   "outputs": [],
   "source": [
    "#loading the data into a dataframe\n",
    "df = pd.read_csv(\"dodgers_2022.csv\")"
   ]
  },
  {
   "cell_type": "code",
   "execution_count": 3,
   "id": "7341dc4d",
   "metadata": {},
   "outputs": [
    {
     "data": {
      "text/html": [
       "<div>\n",
       "<style scoped>\n",
       "    .dataframe tbody tr th:only-of-type {\n",
       "        vertical-align: middle;\n",
       "    }\n",
       "\n",
       "    .dataframe tbody tr th {\n",
       "        vertical-align: top;\n",
       "    }\n",
       "\n",
       "    .dataframe thead th {\n",
       "        text-align: right;\n",
       "    }\n",
       "</style>\n",
       "<table border=\"1\" class=\"dataframe\">\n",
       "  <thead>\n",
       "    <tr style=\"text-align: right;\">\n",
       "      <th></th>\n",
       "      <th>month</th>\n",
       "      <th>day</th>\n",
       "      <th>attend</th>\n",
       "      <th>day_of_week</th>\n",
       "      <th>opponent</th>\n",
       "      <th>temp</th>\n",
       "      <th>skies</th>\n",
       "      <th>day_night</th>\n",
       "      <th>cap</th>\n",
       "      <th>shirt</th>\n",
       "      <th>fireworks</th>\n",
       "      <th>bobblehead</th>\n",
       "    </tr>\n",
       "  </thead>\n",
       "  <tbody>\n",
       "    <tr>\n",
       "      <th>0</th>\n",
       "      <td>APR</td>\n",
       "      <td>10</td>\n",
       "      <td>56000</td>\n",
       "      <td>Tuesday</td>\n",
       "      <td>Pirates</td>\n",
       "      <td>67</td>\n",
       "      <td>Clear</td>\n",
       "      <td>Day</td>\n",
       "      <td>NO</td>\n",
       "      <td>NO</td>\n",
       "      <td>NO</td>\n",
       "      <td>NO</td>\n",
       "    </tr>\n",
       "    <tr>\n",
       "      <th>1</th>\n",
       "      <td>APR</td>\n",
       "      <td>11</td>\n",
       "      <td>29729</td>\n",
       "      <td>Wednesday</td>\n",
       "      <td>Pirates</td>\n",
       "      <td>58</td>\n",
       "      <td>Cloudy</td>\n",
       "      <td>Night</td>\n",
       "      <td>NO</td>\n",
       "      <td>NO</td>\n",
       "      <td>NO</td>\n",
       "      <td>NO</td>\n",
       "    </tr>\n",
       "    <tr>\n",
       "      <th>2</th>\n",
       "      <td>APR</td>\n",
       "      <td>12</td>\n",
       "      <td>28328</td>\n",
       "      <td>Thursday</td>\n",
       "      <td>Pirates</td>\n",
       "      <td>57</td>\n",
       "      <td>Cloudy</td>\n",
       "      <td>Night</td>\n",
       "      <td>NO</td>\n",
       "      <td>NO</td>\n",
       "      <td>NO</td>\n",
       "      <td>NO</td>\n",
       "    </tr>\n",
       "    <tr>\n",
       "      <th>3</th>\n",
       "      <td>APR</td>\n",
       "      <td>13</td>\n",
       "      <td>31601</td>\n",
       "      <td>Friday</td>\n",
       "      <td>Padres</td>\n",
       "      <td>54</td>\n",
       "      <td>Cloudy</td>\n",
       "      <td>Night</td>\n",
       "      <td>NO</td>\n",
       "      <td>NO</td>\n",
       "      <td>YES</td>\n",
       "      <td>NO</td>\n",
       "    </tr>\n",
       "    <tr>\n",
       "      <th>4</th>\n",
       "      <td>APR</td>\n",
       "      <td>14</td>\n",
       "      <td>46549</td>\n",
       "      <td>Saturday</td>\n",
       "      <td>Padres</td>\n",
       "      <td>57</td>\n",
       "      <td>Cloudy</td>\n",
       "      <td>Night</td>\n",
       "      <td>NO</td>\n",
       "      <td>NO</td>\n",
       "      <td>NO</td>\n",
       "      <td>NO</td>\n",
       "    </tr>\n",
       "  </tbody>\n",
       "</table>\n",
       "</div>"
      ],
      "text/plain": [
       "  month  day  attend day_of_week opponent  temp   skies day_night cap shirt  \\\n",
       "0   APR   10   56000     Tuesday  Pirates    67  Clear        Day  NO    NO   \n",
       "1   APR   11   29729   Wednesday  Pirates    58  Cloudy     Night  NO    NO   \n",
       "2   APR   12   28328    Thursday  Pirates    57  Cloudy     Night  NO    NO   \n",
       "3   APR   13   31601      Friday   Padres    54  Cloudy     Night  NO    NO   \n",
       "4   APR   14   46549    Saturday   Padres    57  Cloudy     Night  NO    NO   \n",
       "\n",
       "  fireworks bobblehead  \n",
       "0        NO         NO  \n",
       "1        NO         NO  \n",
       "2        NO         NO  \n",
       "3       YES         NO  \n",
       "4        NO         NO  "
      ]
     },
     "execution_count": 3,
     "metadata": {},
     "output_type": "execute_result"
    }
   ],
   "source": [
    "#inspecting the data\n",
    "df.head()"
   ]
  },
  {
   "cell_type": "code",
   "execution_count": 4,
   "id": "c86cd9d9",
   "metadata": {},
   "outputs": [
    {
     "data": {
      "text/plain": [
       "(81, 12)"
      ]
     },
     "execution_count": 4,
     "metadata": {},
     "output_type": "execute_result"
    }
   ],
   "source": [
    "#checking the shape of the dataframe\n",
    "df.shape"
   ]
  },
  {
   "cell_type": "code",
   "execution_count": 5,
   "id": "ef86bc1e",
   "metadata": {},
   "outputs": [
    {
     "name": "stdout",
     "output_type": "stream",
     "text": [
      "<class 'pandas.core.frame.DataFrame'>\n",
      "RangeIndex: 81 entries, 0 to 80\n",
      "Data columns (total 12 columns):\n",
      " #   Column       Non-Null Count  Dtype \n",
      "---  ------       --------------  ----- \n",
      " 0   month        81 non-null     object\n",
      " 1   day          81 non-null     int64 \n",
      " 2   attend       81 non-null     int64 \n",
      " 3   day_of_week  81 non-null     object\n",
      " 4   opponent     81 non-null     object\n",
      " 5   temp         81 non-null     int64 \n",
      " 6   skies        81 non-null     object\n",
      " 7   day_night    81 non-null     object\n",
      " 8   cap          81 non-null     object\n",
      " 9   shirt        81 non-null     object\n",
      " 10  fireworks    81 non-null     object\n",
      " 11  bobblehead   81 non-null     object\n",
      "dtypes: int64(3), object(9)\n",
      "memory usage: 7.7+ KB\n"
     ]
    }
   ],
   "source": [
    "#inspecting the attributes of the data\n",
    "df.info()"
   ]
  },
  {
   "cell_type": "code",
   "execution_count": 6,
   "id": "9915fc77",
   "metadata": {},
   "outputs": [
    {
     "data": {
      "text/plain": [
       "0"
      ]
     },
     "execution_count": 6,
     "metadata": {},
     "output_type": "execute_result"
    }
   ],
   "source": [
    "#checking for null values\n",
    "df.isna().sum().sum()"
   ]
  },
  {
   "cell_type": "markdown",
   "id": "56c6e425",
   "metadata": {},
   "source": [
    "Looking at the dataset with respect to increasing the attendance for the games, the attributes given makes sense to me. However, as a sports fan myself, one information I would have collected is the record of the opponent or the ranking of the opponent. When I try to watch a game live, the quality of the opponent is definitely something I would look at as well."
   ]
  },
  {
   "cell_type": "code",
   "execution_count": 7,
   "id": "936e48f3",
   "metadata": {},
   "outputs": [
    {
     "data": {
      "text/plain": [
       "count       81.000000\n",
       "mean     41040.074074\n",
       "std       8297.539460\n",
       "min      24312.000000\n",
       "25%      34493.000000\n",
       "50%      40284.000000\n",
       "75%      46588.000000\n",
       "max      56000.000000\n",
       "Name: attend, dtype: float64"
      ]
     },
     "execution_count": 7,
     "metadata": {},
     "output_type": "execute_result"
    }
   ],
   "source": [
    "#Checking for attendance statistics\n",
    "df.attend.describe().T"
   ]
  },
  {
   "cell_type": "markdown",
   "id": "9ca59feb",
   "metadata": {},
   "source": [
    "There is quite a wide spread of attendance numbers over the 81 games played that season. It'll be interesting to check if there are any commonalities for the highest attended games."
   ]
  },
  {
   "cell_type": "code",
   "execution_count": 8,
   "id": "3002cb1d",
   "metadata": {},
   "outputs": [
    {
     "data": {
      "text/html": [
       "<div>\n",
       "<style scoped>\n",
       "    .dataframe tbody tr th:only-of-type {\n",
       "        vertical-align: middle;\n",
       "    }\n",
       "\n",
       "    .dataframe tbody tr th {\n",
       "        vertical-align: top;\n",
       "    }\n",
       "\n",
       "    .dataframe thead th {\n",
       "        text-align: right;\n",
       "    }\n",
       "</style>\n",
       "<table border=\"1\" class=\"dataframe\">\n",
       "  <thead>\n",
       "    <tr style=\"text-align: right;\">\n",
       "      <th></th>\n",
       "      <th>month</th>\n",
       "      <th>day</th>\n",
       "      <th>attend</th>\n",
       "      <th>day_of_week</th>\n",
       "      <th>opponent</th>\n",
       "      <th>temp</th>\n",
       "      <th>skies</th>\n",
       "      <th>day_night</th>\n",
       "      <th>cap</th>\n",
       "      <th>shirt</th>\n",
       "      <th>fireworks</th>\n",
       "      <th>bobblehead</th>\n",
       "    </tr>\n",
       "  </thead>\n",
       "  <tbody>\n",
       "    <tr>\n",
       "      <th>0</th>\n",
       "      <td>APR</td>\n",
       "      <td>10</td>\n",
       "      <td>56000</td>\n",
       "      <td>Tuesday</td>\n",
       "      <td>Pirates</td>\n",
       "      <td>67</td>\n",
       "      <td>Clear</td>\n",
       "      <td>Day</td>\n",
       "      <td>NO</td>\n",
       "      <td>NO</td>\n",
       "      <td>NO</td>\n",
       "      <td>NO</td>\n",
       "    </tr>\n",
       "    <tr>\n",
       "      <th>10</th>\n",
       "      <td>APR</td>\n",
       "      <td>28</td>\n",
       "      <td>54242</td>\n",
       "      <td>Saturday</td>\n",
       "      <td>Nationals</td>\n",
       "      <td>71</td>\n",
       "      <td>Clear</td>\n",
       "      <td>Night</td>\n",
       "      <td>NO</td>\n",
       "      <td>NO</td>\n",
       "      <td>NO</td>\n",
       "      <td>YES</td>\n",
       "    </tr>\n",
       "    <tr>\n",
       "      <th>11</th>\n",
       "      <td>APR</td>\n",
       "      <td>29</td>\n",
       "      <td>48753</td>\n",
       "      <td>Sunday</td>\n",
       "      <td>Nationals</td>\n",
       "      <td>74</td>\n",
       "      <td>Clear</td>\n",
       "      <td>Day</td>\n",
       "      <td>NO</td>\n",
       "      <td>YES</td>\n",
       "      <td>NO</td>\n",
       "      <td>NO</td>\n",
       "    </tr>\n",
       "    <tr>\n",
       "      <th>17</th>\n",
       "      <td>MAY</td>\n",
       "      <td>13</td>\n",
       "      <td>49124</td>\n",
       "      <td>Sunday</td>\n",
       "      <td>Rockies</td>\n",
       "      <td>70</td>\n",
       "      <td>Clear</td>\n",
       "      <td>Day</td>\n",
       "      <td>NO</td>\n",
       "      <td>NO</td>\n",
       "      <td>NO</td>\n",
       "      <td>NO</td>\n",
       "    </tr>\n",
       "    <tr>\n",
       "      <th>19</th>\n",
       "      <td>MAY</td>\n",
       "      <td>15</td>\n",
       "      <td>47077</td>\n",
       "      <td>Tuesday</td>\n",
       "      <td>Snakes</td>\n",
       "      <td>70</td>\n",
       "      <td>Clear</td>\n",
       "      <td>Night</td>\n",
       "      <td>NO</td>\n",
       "      <td>NO</td>\n",
       "      <td>NO</td>\n",
       "      <td>YES</td>\n",
       "    </tr>\n",
       "    <tr>\n",
       "      <th>27</th>\n",
       "      <td>MAY</td>\n",
       "      <td>29</td>\n",
       "      <td>51137</td>\n",
       "      <td>Tuesday</td>\n",
       "      <td>Brewers</td>\n",
       "      <td>74</td>\n",
       "      <td>Clear</td>\n",
       "      <td>Night</td>\n",
       "      <td>NO</td>\n",
       "      <td>NO</td>\n",
       "      <td>NO</td>\n",
       "      <td>YES</td>\n",
       "    </tr>\n",
       "    <tr>\n",
       "      <th>30</th>\n",
       "      <td>JUN</td>\n",
       "      <td>11</td>\n",
       "      <td>50559</td>\n",
       "      <td>Monday</td>\n",
       "      <td>Angels</td>\n",
       "      <td>68</td>\n",
       "      <td>Clear</td>\n",
       "      <td>Night</td>\n",
       "      <td>NO</td>\n",
       "      <td>YES</td>\n",
       "      <td>NO</td>\n",
       "      <td>NO</td>\n",
       "    </tr>\n",
       "    <tr>\n",
       "      <th>31</th>\n",
       "      <td>JUN</td>\n",
       "      <td>12</td>\n",
       "      <td>55279</td>\n",
       "      <td>Tuesday</td>\n",
       "      <td>Angels</td>\n",
       "      <td>66</td>\n",
       "      <td>Cloudy</td>\n",
       "      <td>Night</td>\n",
       "      <td>NO</td>\n",
       "      <td>NO</td>\n",
       "      <td>NO</td>\n",
       "      <td>YES</td>\n",
       "    </tr>\n",
       "    <tr>\n",
       "      <th>35</th>\n",
       "      <td>JUN</td>\n",
       "      <td>17</td>\n",
       "      <td>53504</td>\n",
       "      <td>Sunday</td>\n",
       "      <td>White Sox</td>\n",
       "      <td>74</td>\n",
       "      <td>Clear</td>\n",
       "      <td>Day</td>\n",
       "      <td>NO</td>\n",
       "      <td>NO</td>\n",
       "      <td>NO</td>\n",
       "      <td>NO</td>\n",
       "    </tr>\n",
       "    <tr>\n",
       "      <th>36</th>\n",
       "      <td>JUN</td>\n",
       "      <td>28</td>\n",
       "      <td>49006</td>\n",
       "      <td>Thursday</td>\n",
       "      <td>Mets</td>\n",
       "      <td>75</td>\n",
       "      <td>Clear</td>\n",
       "      <td>Night</td>\n",
       "      <td>NO</td>\n",
       "      <td>NO</td>\n",
       "      <td>NO</td>\n",
       "      <td>YES</td>\n",
       "    </tr>\n",
       "    <tr>\n",
       "      <th>37</th>\n",
       "      <td>JUN</td>\n",
       "      <td>29</td>\n",
       "      <td>49763</td>\n",
       "      <td>Friday</td>\n",
       "      <td>Mets</td>\n",
       "      <td>72</td>\n",
       "      <td>Clear</td>\n",
       "      <td>Night</td>\n",
       "      <td>NO</td>\n",
       "      <td>NO</td>\n",
       "      <td>YES</td>\n",
       "      <td>NO</td>\n",
       "    </tr>\n",
       "    <tr>\n",
       "      <th>39</th>\n",
       "      <td>JUL</td>\n",
       "      <td>1</td>\n",
       "      <td>55359</td>\n",
       "      <td>Sunday</td>\n",
       "      <td>Mets</td>\n",
       "      <td>75</td>\n",
       "      <td>Clear</td>\n",
       "      <td>Night</td>\n",
       "      <td>NO</td>\n",
       "      <td>NO</td>\n",
       "      <td>NO</td>\n",
       "      <td>YES</td>\n",
       "    </tr>\n",
       "    <tr>\n",
       "      <th>42</th>\n",
       "      <td>JUL</td>\n",
       "      <td>4</td>\n",
       "      <td>53570</td>\n",
       "      <td>Wednesday</td>\n",
       "      <td>Reds</td>\n",
       "      <td>70</td>\n",
       "      <td>Clear</td>\n",
       "      <td>Night</td>\n",
       "      <td>NO</td>\n",
       "      <td>NO</td>\n",
       "      <td>YES</td>\n",
       "      <td>NO</td>\n",
       "    </tr>\n",
       "    <tr>\n",
       "      <th>44</th>\n",
       "      <td>JUL</td>\n",
       "      <td>14</td>\n",
       "      <td>54014</td>\n",
       "      <td>Saturday</td>\n",
       "      <td>Padres</td>\n",
       "      <td>75</td>\n",
       "      <td>Clear</td>\n",
       "      <td>Night</td>\n",
       "      <td>NO</td>\n",
       "      <td>NO</td>\n",
       "      <td>NO</td>\n",
       "      <td>YES</td>\n",
       "    </tr>\n",
       "    <tr>\n",
       "      <th>47</th>\n",
       "      <td>JUL</td>\n",
       "      <td>17</td>\n",
       "      <td>53498</td>\n",
       "      <td>Tuesday</td>\n",
       "      <td>Phillies</td>\n",
       "      <td>70</td>\n",
       "      <td>Clear</td>\n",
       "      <td>Night</td>\n",
       "      <td>NO</td>\n",
       "      <td>NO</td>\n",
       "      <td>NO</td>\n",
       "      <td>NO</td>\n",
       "    </tr>\n",
       "    <tr>\n",
       "      <th>50</th>\n",
       "      <td>JUL</td>\n",
       "      <td>31</td>\n",
       "      <td>52832</td>\n",
       "      <td>Tuesday</td>\n",
       "      <td>Snakes</td>\n",
       "      <td>75</td>\n",
       "      <td>Cloudy</td>\n",
       "      <td>Night</td>\n",
       "      <td>NO</td>\n",
       "      <td>NO</td>\n",
       "      <td>NO</td>\n",
       "      <td>YES</td>\n",
       "    </tr>\n",
       "    <tr>\n",
       "      <th>53</th>\n",
       "      <td>AUG</td>\n",
       "      <td>4</td>\n",
       "      <td>46588</td>\n",
       "      <td>Saturday</td>\n",
       "      <td>Cubs</td>\n",
       "      <td>73</td>\n",
       "      <td>Cloudy</td>\n",
       "      <td>Night</td>\n",
       "      <td>NO</td>\n",
       "      <td>NO</td>\n",
       "      <td>NO</td>\n",
       "      <td>NO</td>\n",
       "    </tr>\n",
       "    <tr>\n",
       "      <th>56</th>\n",
       "      <td>AUG</td>\n",
       "      <td>7</td>\n",
       "      <td>55024</td>\n",
       "      <td>Tuesday</td>\n",
       "      <td>Rockies</td>\n",
       "      <td>80</td>\n",
       "      <td>Clear</td>\n",
       "      <td>Night</td>\n",
       "      <td>NO</td>\n",
       "      <td>NO</td>\n",
       "      <td>NO</td>\n",
       "      <td>YES</td>\n",
       "    </tr>\n",
       "    <tr>\n",
       "      <th>59</th>\n",
       "      <td>AUG</td>\n",
       "      <td>21</td>\n",
       "      <td>56000</td>\n",
       "      <td>Tuesday</td>\n",
       "      <td>Giants</td>\n",
       "      <td>75</td>\n",
       "      <td>Clear</td>\n",
       "      <td>Night</td>\n",
       "      <td>NO</td>\n",
       "      <td>NO</td>\n",
       "      <td>NO</td>\n",
       "      <td>YES</td>\n",
       "    </tr>\n",
       "    <tr>\n",
       "      <th>64</th>\n",
       "      <td>AUG</td>\n",
       "      <td>30</td>\n",
       "      <td>54621</td>\n",
       "      <td>Thursday</td>\n",
       "      <td>Snakes</td>\n",
       "      <td>80</td>\n",
       "      <td>Clear</td>\n",
       "      <td>Night</td>\n",
       "      <td>NO</td>\n",
       "      <td>NO</td>\n",
       "      <td>NO</td>\n",
       "      <td>YES</td>\n",
       "    </tr>\n",
       "    <tr>\n",
       "      <th>70</th>\n",
       "      <td>SEP</td>\n",
       "      <td>5</td>\n",
       "      <td>50560</td>\n",
       "      <td>Wednesday</td>\n",
       "      <td>Padres</td>\n",
       "      <td>77</td>\n",
       "      <td>Cloudy</td>\n",
       "      <td>Night</td>\n",
       "      <td>NO</td>\n",
       "      <td>NO</td>\n",
       "      <td>NO</td>\n",
       "      <td>NO</td>\n",
       "    </tr>\n",
       "  </tbody>\n",
       "</table>\n",
       "</div>"
      ],
      "text/plain": [
       "   month  day  attend day_of_week   opponent  temp   skies day_night cap  \\\n",
       "0    APR   10   56000     Tuesday    Pirates    67  Clear        Day  NO   \n",
       "10   APR   28   54242    Saturday  Nationals    71  Clear      Night  NO   \n",
       "11   APR   29   48753      Sunday  Nationals    74  Clear        Day  NO   \n",
       "17   MAY   13   49124      Sunday    Rockies    70  Clear        Day  NO   \n",
       "19   MAY   15   47077     Tuesday     Snakes    70  Clear      Night  NO   \n",
       "27   MAY   29   51137     Tuesday    Brewers    74  Clear      Night  NO   \n",
       "30   JUN   11   50559      Monday     Angels    68  Clear      Night  NO   \n",
       "31   JUN   12   55279     Tuesday     Angels    66  Cloudy     Night  NO   \n",
       "35   JUN   17   53504      Sunday  White Sox    74  Clear        Day  NO   \n",
       "36   JUN   28   49006    Thursday       Mets    75  Clear      Night  NO   \n",
       "37   JUN   29   49763      Friday       Mets    72  Clear      Night  NO   \n",
       "39   JUL    1   55359      Sunday       Mets    75  Clear      Night  NO   \n",
       "42   JUL    4   53570   Wednesday       Reds    70  Clear      Night  NO   \n",
       "44   JUL   14   54014    Saturday     Padres    75  Clear      Night  NO   \n",
       "47   JUL   17   53498     Tuesday   Phillies    70  Clear      Night  NO   \n",
       "50   JUL   31   52832     Tuesday     Snakes    75  Cloudy     Night  NO   \n",
       "53   AUG    4   46588    Saturday       Cubs    73  Cloudy     Night  NO   \n",
       "56   AUG    7   55024     Tuesday    Rockies    80  Clear      Night  NO   \n",
       "59   AUG   21   56000     Tuesday     Giants    75  Clear      Night  NO   \n",
       "64   AUG   30   54621    Thursday     Snakes    80  Clear      Night  NO   \n",
       "70   SEP    5   50560   Wednesday     Padres    77  Cloudy     Night  NO   \n",
       "\n",
       "   shirt fireworks bobblehead  \n",
       "0     NO        NO         NO  \n",
       "10    NO        NO        YES  \n",
       "11   YES        NO         NO  \n",
       "17    NO        NO         NO  \n",
       "19    NO        NO        YES  \n",
       "27    NO        NO        YES  \n",
       "30   YES        NO         NO  \n",
       "31    NO        NO        YES  \n",
       "35    NO        NO         NO  \n",
       "36    NO        NO        YES  \n",
       "37    NO       YES         NO  \n",
       "39    NO        NO        YES  \n",
       "42    NO       YES         NO  \n",
       "44    NO        NO        YES  \n",
       "47    NO        NO         NO  \n",
       "50    NO        NO        YES  \n",
       "53    NO        NO         NO  \n",
       "56    NO        NO        YES  \n",
       "59    NO        NO        YES  \n",
       "64    NO        NO        YES  \n",
       "70    NO        NO         NO  "
      ]
     },
     "execution_count": 8,
     "metadata": {},
     "output_type": "execute_result"
    }
   ],
   "source": [
    "#checking the most attended games using 75% of the highest attendance as a query parameter\n",
    "df.query('attend >= 46588')"
   ]
  },
  {
   "cell_type": "markdown",
   "id": "503eaa69",
   "metadata": {},
   "source": [
    "From this query, no pattern really stands out right away in terms of day of the week and opponent. In terms of temperature, there is quite a wide range. In terms of skies and if the game was played during day or night, a lot more of these games were played with clear skies and during night time. Lastly, most games had promotions,however, the type of promotions were mixed."
   ]
  },
  {
   "cell_type": "markdown",
   "id": "1846e4ba",
   "metadata": {},
   "source": [
    "Assumption: I know that weather and day of the week are big considerations for one to attend a game especially that baseball is an outdoor game. However, I know that for professional leagues, the league itself schedules the games and so the teams do not really have the ability to pick when to play the game. With that being said, I will not include the day when the game was played in addition to the weather (temp and skies) for my recommendations as these attributes can be considered as out of the team's control. I will focus on the promotions and will recommend which promotions to provide especially during lower attendance games."
   ]
  },
  {
   "cell_type": "code",
   "execution_count": 9,
   "id": "0110050f",
   "metadata": {},
   "outputs": [
    {
     "data": {
      "text/plain": [
       "cap  shirt  fireworks  bobblehead\n",
       "NO   NO     NO         YES           53144.636364\n",
       "     YES    NO         NO            46643.666667\n",
       "     NO     YES        NO            41077.857143\n",
       "            NO         NO            38201.078431\n",
       "YES  NO     NO         NO            38189.500000\n",
       "Name: attend, dtype: float64"
      ]
     },
     "execution_count": 9,
     "metadata": {},
     "output_type": "execute_result"
    }
   ],
   "source": [
    "#Continuing from my assumption above, I would like to determine which promotion drives the highest attendance average.\n",
    "dodge_promo = df.groupby(['cap', 'shirt', 'fireworks', 'bobblehead']).attend.mean().sort_values\\\n",
    "(ascending=False)\n",
    "dodge_promo"
   ]
  },
  {
   "cell_type": "code",
   "execution_count": 10,
   "id": "474e2678",
   "metadata": {},
   "outputs": [
    {
     "data": {
      "text/plain": [
       "Text(0, 0.5, 'Average Attendance')"
      ]
     },
     "execution_count": 10,
     "metadata": {},
     "output_type": "execute_result"
    },
    {
     "data": {
      "image/png": "[encoded data removed]",
      "text/plain": [
       "<Figure size 640x480 with 1 Axes>"
      ]
     },
     "metadata": {},
     "output_type": "display_data"
    }
   ],
   "source": [
    "#plotting average attendace vs promotion type\n",
    "promo_plot = dodge_promo.plot.bar()\n",
    "promo_plot.set_xticklabels(['bobblehead','shirt','fireworks', 'none', 'cap'], rotation = 0, fontsize=12)\n",
    "promo_plot.set_xlabel('Type of Promotion', fontsize=14)\n",
    "promo_plot.set_ylabel('Average Attendance', fontsize=14)"
   ]
  },
  {
   "cell_type": "markdown",
   "id": "571ef020",
   "metadata": {},
   "source": [
    "Based on the results above, I will recommend promotions for games in the order of what is shown in the plot. Games with bobblehead, shirt and fireworks have higher average attendance compared to games without promotion or with a cap giveaway. The average attendance for games without a promotion and with a cap giveaway are similar so the cap giveaway did not increase the attendance of the games. I would recommend to change this promotion to either of the bobblehead, shirt or fireworks, or even possibly experiment with a new promotion type. The question is when should they have a promotion? The next plot shows the average attendance per day of the week."
   ]
  },
  {
   "cell_type": "code",
   "execution_count": 11,
   "id": "e72a07ae",
   "metadata": {},
   "outputs": [
    {
     "data": {
      "text/plain": [
       "day_of_week\n",
       "Tuesday      47741.230769\n",
       "Saturday     43072.923077\n",
       "Sunday       42268.846154\n",
       "Thursday     40407.400000\n",
       "Friday       40116.923077\n",
       "Wednesday    37585.166667\n",
       "Monday       34965.666667\n",
       "Name: attend, dtype: float64"
      ]
     },
     "execution_count": 11,
     "metadata": {},
     "output_type": "execute_result"
    }
   ],
   "source": [
    "#groupint average attendance based on the day of the week\n",
    "game_day = df.groupby(df.day_of_week).attend.mean().sort_values\\\n",
    "(ascending=False)\n",
    "game_day"
   ]
  },
  {
   "cell_type": "code",
   "execution_count": 12,
   "id": "c0157139",
   "metadata": {},
   "outputs": [
    {
     "data": {
      "text/plain": [
       "Text(0, 0.5, 'Average Attendance')"
      ]
     },
     "execution_count": 12,
     "metadata": {},
     "output_type": "execute_result"
    },
    {
     "data": {
      "image/png": "[encoded data removed]",
      "text/plain": [
       "<Figure size 640x480 with 1 Axes>"
      ]
     },
     "metadata": {},
     "output_type": "display_data"
    }
   ],
   "source": [
    "#Plotting average attendance vs days of the week\n",
    "game_day_plot = game_day.plot.bar()\n",
    "game_day_plot.set_xticklabels(['Tue', 'Sat', 'Sun', 'Thu', 'Fri', 'Wed', 'Mon'], rotation = 0, fontsize=12)\n",
    "game_day_plot.set_xlabel('Day of Week', fontsize=14)\n",
    "game_day_plot.set_ylabel('Average Attendance', fontsize=14)"
   ]
  },
  {
   "cell_type": "markdown",
   "id": "5f2f53a5",
   "metadata": {},
   "source": [
    "Based on the plot above, Tuesday and the weekends showed highest average attendance. The weekends are almost a given since most people are off on the weekends and have time to watch the games. Tuesday is counterintuitive to me as it is going towards the mid of the week so I wasn't expecting this result. The two lowest attendance days definitely makes sense to me as Monday is the start of the workweek while Wednesday is in the middle of the workweek. So I would definitely recommend promotions during these days."
   ]
  },
  {
   "cell_type": "code",
   "execution_count": 13,
   "id": "573df322",
   "metadata": {},
   "outputs": [],
   "source": [
    "#My analysis ends above but I am still curious why Tuesday had the highest average attendance \n",
    "#so I do a simple query below.\n",
    "df_tue = df[df['day_of_week'] == 'Tuesday']"
   ]
  },
  {
   "cell_type": "code",
   "execution_count": 14,
   "id": "a3372cf1",
   "metadata": {},
   "outputs": [
    {
     "data": {
      "text/plain": [
       "(13, 12)"
      ]
     },
     "execution_count": 14,
     "metadata": {},
     "output_type": "execute_result"
    }
   ],
   "source": [
    "df_tue.shape"
   ]
  },
  {
   "cell_type": "code",
   "execution_count": 15,
   "id": "e12b1294",
   "metadata": {},
   "outputs": [
    {
     "data": {
      "text/plain": [
       "(8, 12)"
      ]
     },
     "execution_count": 15,
     "metadata": {},
     "output_type": "execute_result"
    }
   ],
   "source": [
    "#determining if how many games had promotions vs not on a Tuesday\n",
    "df_tue[(df_tue.cap == 'YES') | (df_tue.shirt == 'YES') | (df_tue.fireworks == 'YES') |\\\n",
    "       (df_tue.bobblehead == 'YES')].shape"
   ]
  },
  {
   "cell_type": "markdown",
   "id": "3f4259f1",
   "metadata": {},
   "source": [
    "Out of 13 games that took place on a Tuesday, 8 of them had promotions compared to 5 without. Although it is clear that promotions drive attendance, there isn't enough data to conclude that this is the reason why Tuesday games had the highest average of attendance based on whether there was a promotion or not. This is perhaps a trend that can be investigated. Doing a quick search online, it states that Friday to Sunday have the highest attendance overall for MLB games."
   ]
  },
  {
   "cell_type": "markdown",
   "id": "2244a113",
   "metadata": {},
   "source": [
    "Since I am still skeptical that Tuesdays have the highest average attendance, I decided to double check if the day of the week from the dataset corresponds to the date. Based on the filename of dodgers_2022.csv, if the season is for 2022, it turns out that the day of the week in the dataset is incorrect. So I now have to correct the day of the week in the dataset. This is a reminder that I should have checked it earlier."
   ]
  },
  {
   "cell_type": "code",
   "execution_count": 16,
   "id": "9026af0b",
   "metadata": {},
   "outputs": [],
   "source": [
    "#creating the year column for the dataset\n",
    "df['year'] = '2022'"
   ]
  },
  {
   "cell_type": "code",
   "execution_count": 17,
   "id": "84bf5485",
   "metadata": {},
   "outputs": [],
   "source": [
    "#creating a function to convert month to number\n",
    "def monthToNum(month):\n",
    "    if month == 'JAN':\n",
    "        return 1\n",
    "    elif month == 'FEB':\n",
    "        return 2\n",
    "    elif month == 'MAR':\n",
    "        return 3\n",
    "    elif month == 'APR':\n",
    "        return 4\n",
    "    elif month == 'MAY':\n",
    "        return 5\n",
    "    elif month == 'JUN':\n",
    "        return 6\n",
    "    elif month == 'JUL':\n",
    "        return 7\n",
    "    elif month == 'AUG':\n",
    "        return 8\n",
    "    elif month == 'SEP':\n",
    "        return 9\n",
    "    elif month == 'OCT':\n",
    "        return 10\n",
    "    elif month == 'NOV':\n",
    "        return 11\n",
    "    elif month == 'DEC':\n",
    "        return 12\n",
    "            "
   ]
  },
  {
   "cell_type": "code",
   "execution_count": 18,
   "id": "4768883d",
   "metadata": {},
   "outputs": [],
   "source": [
    "#converting the three letter month abbreviation using the function I created above\n",
    "df['month'] = df['month'].apply(monthToNum)"
   ]
  },
  {
   "cell_type": "code",
   "execution_count": 19,
   "id": "be48a302",
   "metadata": {},
   "outputs": [],
   "source": [
    "#creating the datetime\n",
    "dt_series = pd.to_datetime(df[['year', 'month', 'day']])\n",
    "df['datetime'] = dt_series"
   ]
  },
  {
   "cell_type": "code",
   "execution_count": 20,
   "id": "ae594430",
   "metadata": {},
   "outputs": [],
   "source": [
    "#creating a function to determine the day of week from the datetime column\n",
    "def day_name(datetime):\n",
    "    return datetime.strftime('%A')"
   ]
  },
  {
   "cell_type": "code",
   "execution_count": 21,
   "id": "655552d8",
   "metadata": {},
   "outputs": [],
   "source": [
    "#correcting the day of week\n",
    "df['day_of_week'] = df['datetime'].apply(day_name)"
   ]
  },
  {
   "cell_type": "markdown",
   "id": "07dcc699",
   "metadata": {},
   "source": [
    "After correcting the day of the week, the analysis regarding which promotion drives more attendance is still valid as day of the week was not used to predict those results. However, the analysis regarding attendance vs day of the week needs to be repeated."
   ]
  },
  {
   "cell_type": "code",
   "execution_count": 22,
   "id": "6284db4c",
   "metadata": {},
   "outputs": [
    {
     "data": {
      "text/plain": [
       "day_of_week\n",
       "Sunday       47741.230769\n",
       "Thursday     43072.923077\n",
       "Friday       42268.846154\n",
       "Tuesday      40407.400000\n",
       "Wednesday    40116.923077\n",
       "Monday       37585.166667\n",
       "Saturday     34965.666667\n",
       "Name: attend, dtype: float64"
      ]
     },
     "execution_count": 22,
     "metadata": {},
     "output_type": "execute_result"
    }
   ],
   "source": [
    "#grouping average attendance based on the day of the week\n",
    "game_day_corrected = df.groupby(df.day_of_week).attend.mean().sort_values\\\n",
    "(ascending=False)\n",
    "game_day_corrected"
   ]
  },
  {
   "cell_type": "code",
   "execution_count": 23,
   "id": "5dc06fed",
   "metadata": {},
   "outputs": [
    {
     "data": {
      "text/plain": [
       "Text(0, 0.5, 'Average Attendance')"
      ]
     },
     "execution_count": 23,
     "metadata": {},
     "output_type": "execute_result"
    },
    {
     "data": {
      "image/png": "[encoded data removed]",
      "text/plain": [
       "<Figure size 640x480 with 1 Axes>"
      ]
     },
     "metadata": {},
     "output_type": "display_data"
    }
   ],
   "source": [
    "#Plotting average attendance vs days of the week\n",
    "game_day_corrected_plot = game_day_corrected.plot.bar()\n",
    "game_day_corrected_plot.set_xticklabels(['Sun', 'Thu', 'Fri', 'Tue', 'Wed', 'Mon', 'Sat'], rotation = 0, fontsize=12)\n",
    "game_day_corrected_plot.set_xlabel('Day of Week', fontsize=14)\n",
    "game_day_corrected_plot.set_ylabel('Average Attendance', fontsize=14)"
   ]
  },
  {
   "cell_type": "markdown",
   "id": "070fd4b0",
   "metadata": {},
   "source": [
    "The results above makes more sense to me that Sunday had the highest average attendance and games towards the weekend had higher attendance rates than weekdays. The only exception is Saturday. Perhaps with more data, more insights can be drawn why this is the case. But the answer to providing a recommendation to increase attendance, it would still be having promotions for the game."
   ]
  }
 ],
 "metadata": {
  "kernelspec": {
   "display_name": "Python 3 (ipykernel)",
   "language": "python",
   "name": "python3"
  },
  "language_info": {
   "codemirror_mode": {
    "name": "ipython",
    "version": 3
   },
   "file_extension": ".py",
   "mimetype": "text/x-python",
   "name": "python",
   "nbconvert_exporter": "python",
   "pygments_lexer": "ipython3",
   "version": "3.9.13"
  }
 },
 "nbformat": 4,
 "nbformat_minor": 5
}
